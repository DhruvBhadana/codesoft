{
 "cells": [
  {
   "cell_type": "code",
   "execution_count": 2,
   "id": "ca96b461",
   "metadata": {},
   "outputs": [],
   "source": [
    "from tkinter import *\n",
    "import random\n",
    "\n",
    "# Initialize the main window\n",
    "root = Tk()\n",
    "root.title(\"Password Generator\")\n",
    "root.geometry('300x300')\n",
    "root.configure(background='gainsboro')\n",
    "\n",
    "# To store/retrieve the string value entered by user\n",
    "password = StringVar()\n",
    "\n",
    "# To store/retrieve the integer value entered by user\n",
    "pas = IntVar()\n",
    "pas.set(\"\")\n",
    "\n",
    "# Function to generate a random password\n",
    "def password_generator():\n",
    "    characters = 'abcdefghijklmnopqrstuvwxyzABCDEFGHIJKLMNOPQRSTUVWXYZ1234567890!@#$%^&*()'\n",
    "    generated_password = ''\n",
    "    if pas.get() >= 8:\n",
    "        for i in range(pas.get()):\n",
    "            generated_password += random.choice(characters)\n",
    "        password.set(generated_password)\n",
    "    else:\n",
    "        password.set(\"Length must be at least 8\")\n",
    "\n",
    "# Label to display the primary instruction to user to enter the length of password required\n",
    "Label(root, text=\"Enter the length of the password \\n(Minimum length should be 8)\", bg='darkolivegreen4', fg='white').pack(pady=10)\n",
    "\n",
    "# Entry widget to take the length of password from the user\n",
    "Entry(root, textvariable=pas).pack(pady=5)\n",
    "\n",
    "# Button to generate random password\n",
    "Button(root, text=\"Generate Password\", command=password_generator, bg='darkolivegreen4', fg='white').pack(pady=10)\n",
    "\n",
    "# Entry widget to display the generated password\n",
    "Entry(root, textvariable=password, state='readonly').pack(pady=5)\n",
    "\n",
    "# Start the main loop\n",
    "root.mainloop()\n"
   ]
  },
  {
   "cell_type": "code",
   "execution_count": null,
   "id": "9fac6a5a",
   "metadata": {},
   "outputs": [],
   "source": []
  }
 ],
 "metadata": {
  "kernelspec": {
   "display_name": "Python 3 (ipykernel)",
   "language": "python",
   "name": "python3"
  },
  "language_info": {
   "codemirror_mode": {
    "name": "ipython",
    "version": 3
   },
   "file_extension": ".py",
   "mimetype": "text/x-python",
   "name": "python",
   "nbconvert_exporter": "python",
   "pygments_lexer": "ipython3",
   "version": "3.9.13"
  }
 },
 "nbformat": 4,
 "nbformat_minor": 5
}
